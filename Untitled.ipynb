{
 "cells": [
  {
   "cell_type": "code",
   "execution_count": 33,
   "metadata": {},
   "outputs": [
    {
     "data": {
      "text/plain": [
       "array([[ 5, 12],\n",
       "       [21, 32]])"
      ]
     },
     "execution_count": 33,
     "metadata": {},
     "output_type": "execute_result"
    }
   ],
   "source": [
    "import numpy as np\n",
    "a=np.array([5,6,9])\n",
    "a.ndim\n",
    "m=np.array([[1,2,3],[4,5,6],[7,8,9]])\n",
    "m.ndim\n",
    "m.itemsize\n",
    "m.dtype\n",
    "n=np.array([[1,2,3],[4,5,6],[7,8,9],[10,11,12]],dtype=np.float64)\n",
    "n.itemsize\n",
    "n.ndim\n",
    "n.size\n",
    "l=np.zeros((3,4))\n",
    "l\n",
    "k=np.arange(1,5)\n",
    "k=np.linspace(1,10,5)\n",
    "k.reshape(5,1)\n",
    "l=np.array([[1,2,3],[4,5,6],[7,8,9]])\n",
    "l.ravel()\n",
    "l.min()\n",
    "l.max()\n",
    "g=np.array([[1,2,3],[4,5,6],[7,8,9]])\n",
    "g.sum(axis=0)\n",
    "np.sqrt(g)\n",
    "np.std(g)\n",
    "k=np.array([[1,2],[3,4]])\n",
    "j=np.array([[5,6],[7,8]])\n",
    "k+j\n",
    "k*j"
   ]
  },
  {
   "cell_type": "code",
   "execution_count": null,
   "metadata": {},
   "outputs": [],
   "source": []
  }
 ],
 "metadata": {
  "kernelspec": {
   "display_name": "Python 3",
   "language": "python",
   "name": "python3"
  },
  "language_info": {
   "codemirror_mode": {
    "name": "ipython",
    "version": 3
   },
   "file_extension": ".py",
   "mimetype": "text/x-python",
   "name": "python",
   "nbconvert_exporter": "python",
   "pygments_lexer": "ipython3",
   "version": "3.7.3"
  }
 },
 "nbformat": 4,
 "nbformat_minor": 2
}
